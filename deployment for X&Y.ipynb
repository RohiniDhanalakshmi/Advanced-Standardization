{
 "cells": [
  {
   "cell_type": "code",
   "execution_count": 1,
   "id": "92743832-366e-4d3b-bbc6-267dde3e98ae",
   "metadata": {},
   "outputs": [],
   "source": [
    "import pickle\n",
    "file=\"stand.sav\"\n",
    "#pickle.dump([sc,scy],open(file,'wb'))\n",
    "sc,scy=pickle.load(open('stand.sav','rb'))"
   ]
  },
  {
   "cell_type": "code",
   "execution_count": 2,
   "id": "cc430195-a3d3-44bd-8123-6d4f518c01f3",
   "metadata": {},
   "outputs": [
    {
     "data": {
      "text/plain": [
       "array([0.00393262])"
      ]
     },
     "execution_count": 2,
     "metadata": {},
     "output_type": "execute_result"
    }
   ],
   "source": [
    "#pickle.dump(regressor,open(filename,\"wb\"))\n",
    "loaded=pickle.load(open(\"stand2.sav\",\"rb\"))\n",
    "res2=loaded.predict([[236594,632564,125932,1,0]])\n",
    "res2"
   ]
  },
  {
   "cell_type": "code",
   "execution_count": 3,
   "id": "82ff058f-cd7c-48bd-ae35-0c2e79de254c",
   "metadata": {},
   "outputs": [
    {
     "data": {
      "text/plain": [
       "array([[110394.47649872]])"
      ]
     },
     "execution_count": 3,
     "metadata": {},
     "output_type": "execute_result"
    }
   ],
   "source": [
    "preoutput=scy.inverse_transform([res2])\n",
    "preoutput"
   ]
  },
  {
   "cell_type": "code",
   "execution_count": null,
   "id": "95e192f5-4e7d-4941-9340-406ebb548bd7",
   "metadata": {},
   "outputs": [],
   "source": []
  }
 ],
 "metadata": {
  "kernelspec": {
   "display_name": "Python 3 (ipykernel)",
   "language": "python",
   "name": "python3"
  },
  "language_info": {
   "codemirror_mode": {
    "name": "ipython",
    "version": 3
   },
   "file_extension": ".py",
   "mimetype": "text/x-python",
   "name": "python",
   "nbconvert_exporter": "python",
   "pygments_lexer": "ipython3",
   "version": "3.10.14"
  }
 },
 "nbformat": 4,
 "nbformat_minor": 5
}
