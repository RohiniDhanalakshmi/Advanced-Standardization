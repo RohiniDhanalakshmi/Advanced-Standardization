{
 "cells": [
  {
   "cell_type": "code",
   "execution_count": 1,
   "id": "9ed80187-34d7-49e4-b07c-47596eb6365c",
   "metadata": {},
   "outputs": [],
   "source": [
    "import pickle\n",
    "file=\"stand1.sav\"\n",
    "#pickle.dump([sc],open(file,\"wb\"))\n",
    "res1=pickle.load(open(\"stand1.sav\",\"rb\"))"
   ]
  },
  {
   "cell_type": "code",
   "execution_count": 2,
   "id": "cedb8941-decc-4026-af90-d26d73ec4da4",
   "metadata": {},
   "outputs": [
    {
     "data": {
      "text/plain": [
       "array([299997.84990556])"
      ]
     },
     "execution_count": 2,
     "metadata": {},
     "output_type": "execute_result"
    }
   ],
   "source": [
    "#pickle.dump(regressor,open(filename,\"wb\"))\n",
    "loaded=pickle.load(open(\"stand2.sav\",\"rb\"))\n",
    "res2=loaded.predict([[23.0,79.0,5.0,36.0,0]])\n",
    "res2"
   ]
  },
  {
   "cell_type": "code",
   "execution_count": null,
   "id": "fcb2c21c-7492-4ede-8ce3-5bb9cb737f4f",
   "metadata": {},
   "outputs": [],
   "source": []
  }
 ],
 "metadata": {
  "kernelspec": {
   "display_name": "Python 3 (ipykernel)",
   "language": "python",
   "name": "python3"
  },
  "language_info": {
   "codemirror_mode": {
    "name": "ipython",
    "version": 3
   },
   "file_extension": ".py",
   "mimetype": "text/x-python",
   "name": "python",
   "nbconvert_exporter": "python",
   "pygments_lexer": "ipython3",
   "version": "3.10.14"
  }
 },
 "nbformat": 4,
 "nbformat_minor": 5
}
